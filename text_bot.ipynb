{
 "cells": [
  {
   "cell_type": "markdown",
   "metadata": {},
   "source": [
    "## This notebook loads the previously trained text generator model\n",
    "\n",
    "Adjust paramaters\n",
    "\n",
    "`Randomness`\n",
    "\n",
    "`N_characters`\n",
    "\n",
    "and \n",
    "\n",
    "`seed`\n",
    "\n",
    "to change the text bot's output"
   ]
  },
  {
   "cell_type": "code",
   "execution_count": 1,
   "metadata": {},
   "outputs": [
    {
     "name": "stdout",
     "output_type": "stream",
     "text": [
      "Length of text: 270389 characters\n",
      "85 unique characters\n"
     ]
    }
   ],
   "source": [
    "import tensorflow as tf\n",
    "from tensorflow.keras.layers.experimental import preprocessing\n",
    "\n",
    "import numpy as np\n",
    "import os\n",
    "import time\n",
    "\n",
    "\n",
    "from load_text_generator import *"
   ]
  },
  {
   "cell_type": "markdown",
   "metadata": {},
   "source": [
    "## Load the trained model\n",
    "\n",
    "Increase or decrease \"Randomness\" to adjust the text bot's selection of next characters"
   ]
  },
  {
   "cell_type": "code",
   "execution_count": 14,
   "metadata": {},
   "outputs": [],
   "source": [
    "Randomness = 0.4\n",
    "\n",
    "one_step_model = OneStep(model, chars_from_ids, ids_from_chars, Randomness)"
   ]
  },
  {
   "cell_type": "markdown",
   "metadata": {},
   "source": [
    "## Seed phrase\n",
    "\n",
    "Choose a seed phrase. You will get better results with a phrase the generator is familiar with."
   ]
  },
  {
   "cell_type": "code",
   "execution_count": 15,
   "metadata": {
    "scrolled": true
   },
   "outputs": [],
   "source": [
    "seed = ['CARLSON:']"
   ]
  },
  {
   "cell_type": "code",
   "execution_count": 16,
   "metadata": {},
   "outputs": [],
   "source": [
    "Initialize(one_step_model, seed)"
   ]
  },
  {
   "cell_type": "markdown",
   "metadata": {},
   "source": [
    "## Generate Text Output"
   ]
  },
  {
   "cell_type": "code",
   "execution_count": 17,
   "metadata": {},
   "outputs": [
    {
     "name": "stdout",
     "output_type": "stream",
     "text": [
      "CARLSON: Good evening and welcome to TUCKER CARLSON TONIGHT.\n",
      " \n",
      "CARLSON: So if you're a mannequin, maybe two masks will help explain what is in the same outcome. If that's true. And more feeling with the system to you know, and the rest of us are working these two things and dangerous governor in the United States announcing that he somehow do you tell me it can't be done. It's a trend these days, and it's a thought that they've told us that.\n",
      "So the Capitol Hill police are now effectively trespassing? \n",
      "But this is the time of the search, and one of them to deal with that.\n",
      " \n",
      "CARLSON: Deally? Really need to have flamored to this country they are in church of the situation is just fanciful, but Kamala Harris and here was his response, quote: \"Masks, the media is the come in and then all the time when he did it. We have its now the size of the shown and instead to me, it really spread.\n",
      "The second episode in our documentary series on FOX Nation as well.\n",
      "So some people are choosing not to them for th\n"
     ]
    }
   ],
   "source": [
    "N_characters = 1000\n",
    "\n",
    "Generate(one_step_model, N_characters, seed)"
   ]
  },
  {
   "cell_type": "code",
   "execution_count": null,
   "metadata": {},
   "outputs": [],
   "source": []
  }
 ],
 "metadata": {
  "kernelspec": {
   "display_name": "Python 3",
   "language": "python",
   "name": "python3"
  },
  "language_info": {
   "codemirror_mode": {
    "name": "ipython",
    "version": 3
   },
   "file_extension": ".py",
   "mimetype": "text/x-python",
   "name": "python",
   "nbconvert_exporter": "python",
   "pygments_lexer": "ipython3",
   "version": "3.7.4"
  }
 },
 "nbformat": 4,
 "nbformat_minor": 2
}
