{
 "cells": [
  {
   "cell_type": "markdown",
   "metadata": {
    "id": "t09eeeR5prIJ"
   },
   "source": [
    "##### Copyright 2019 The TensorFlow Authors."
   ]
  },
  {
   "cell_type": "code",
   "execution_count": 1,
   "metadata": {
    "cellView": "form",
    "execution": {
     "iopub.execute_input": "2021-05-19T06:56:46.398837Z",
     "iopub.status.busy": "2021-05-19T06:56:46.398298Z",
     "iopub.status.idle": "2021-05-19T06:56:46.400627Z",
     "shell.execute_reply": "2021-05-19T06:56:46.400110Z"
    },
    "id": "GCCk8_dHpuNf"
   },
   "outputs": [],
   "source": [
    "#@title Licensed under the Apache License, Version 2.0 (the \"License\");\n",
    "# you may not use this file except in compliance with the License.\n",
    "# You may obtain a copy of the License at\n",
    "#\n",
    "# https://www.apache.org/licenses/LICENSE-2.0\n",
    "#\n",
    "# Unless required by applicable law or agreed to in writing, software\n",
    "# distributed under the License is distributed on an \"AS IS\" BASIS,\n",
    "# WITHOUT WARRANTIES OR CONDITIONS OF ANY KIND, either express or implied.\n",
    "# See the License for the specific language governing permissions and\n",
    "# limitations under the License."
   ]
  },
  {
   "cell_type": "markdown",
   "metadata": {
    "id": "srXC6pLGLwS6"
   },
   "source": [
    "## Setup"
   ]
  },
  {
   "cell_type": "markdown",
   "metadata": {
    "id": "WGyKZj3bzf9p"
   },
   "source": [
    "### Import TensorFlow and other libraries"
   ]
  },
  {
   "cell_type": "code",
   "execution_count": 2,
   "metadata": {
    "execution": {
     "iopub.execute_input": "2021-05-19T06:56:46.407454Z",
     "iopub.status.busy": "2021-05-19T06:56:46.406910Z",
     "iopub.status.idle": "2021-05-19T06:56:52.694909Z",
     "shell.execute_reply": "2021-05-19T06:56:52.694405Z"
    },
    "id": "yG_n40gFzf9s"
   },
   "outputs": [],
   "source": [
    "import tensorflow as tf\n",
    "from tensorflow.keras.layers.experimental import preprocessing\n",
    "\n",
    "import numpy as np\n",
    "import os\n",
    "import time"
   ]
  },
  {
   "cell_type": "code",
   "execution_count": 38,
   "metadata": {},
   "outputs": [],
   "source": [
    "def printTime(delta):\n",
    "    print('\\nTime: {0:.0f}h {1:.0f}m {2:.2f}s'.format(delta//3600, (delta % 3600) // 60, delta % 60))"
   ]
  },
  {
   "cell_type": "code",
   "execution_count": 43,
   "metadata": {},
   "outputs": [
    {
     "data": {
      "text/plain": [
       "1"
      ]
     },
     "execution_count": 43,
     "metadata": {},
     "output_type": "execute_result"
    }
   ],
   "source": []
  },
  {
   "cell_type": "markdown",
   "metadata": {
    "id": "EHDoRoc5PKWz"
   },
   "source": [
    "### Filename\n",
    "\n"
   ]
  },
  {
   "cell_type": "code",
   "execution_count": 3,
   "metadata": {
    "execution": {
     "iopub.execute_input": "2021-05-19T06:56:52.698962Z",
     "iopub.status.busy": "2021-05-19T06:56:52.698420Z",
     "iopub.status.idle": "2021-05-19T06:56:52.700464Z",
     "shell.execute_reply": "2021-05-19T06:56:52.700038Z"
    },
    "id": "pD_55cOxLkAb"
   },
   "outputs": [],
   "source": [
    "path_to_file = 'transcripts_all.txt'\n"
   ]
  },
  {
   "cell_type": "markdown",
   "metadata": {
    "id": "UHjdCjDuSvX_"
   },
   "source": [
    "### Read the data\n",
    "\n",
    "First, look in the text:"
   ]
  },
  {
   "cell_type": "code",
   "execution_count": 4,
   "metadata": {
    "execution": {
     "iopub.execute_input": "2021-05-19T06:56:52.704132Z",
     "iopub.status.busy": "2021-05-19T06:56:52.703514Z",
     "iopub.status.idle": "2021-05-19T06:56:52.707365Z",
     "shell.execute_reply": "2021-05-19T06:56:52.707708Z"
    },
    "id": "aavnuByVymwK"
   },
   "outputs": [
    {
     "name": "stdout",
     "output_type": "stream",
     "text": [
      "Length of text: 270389 characters\n"
     ]
    }
   ],
   "source": [
    "# Read, then decode for py2 compat.\n",
    "text = open(path_to_file, 'rb').read().decode(encoding='utf-8')\n",
    "# length of text is the number of characters in it\n",
    "print(f'Length of text: {len(text)} characters')"
   ]
  },
  {
   "cell_type": "code",
   "execution_count": 5,
   "metadata": {
    "execution": {
     "iopub.execute_input": "2021-05-19T06:56:52.710921Z",
     "iopub.status.busy": "2021-05-19T06:56:52.710293Z",
     "iopub.status.idle": "2021-05-19T06:56:52.712350Z",
     "shell.execute_reply": "2021-05-19T06:56:52.712666Z"
    },
    "id": "Duhg9NrUymwO"
   },
   "outputs": [
    {
     "name": "stdout",
     "output_type": "stream",
     "text": [
      "CARLSON: Good evening and welcome to TUCKER CARLSON TONIGHT.\n",
      "\n",
      "A lot of Americans, a lot of people in the West are under severe pressure right now to conform, and most of them do conform because they're afraid.\n",
      "\n",
      "But it's interesting to see who doesn't\n"
     ]
    }
   ],
   "source": [
    "# Take a look at the first 250 characters in text\n",
    "print(text[:250])"
   ]
  },
  {
   "cell_type": "code",
   "execution_count": 6,
   "metadata": {
    "execution": {
     "iopub.execute_input": "2021-05-19T06:56:52.725668Z",
     "iopub.status.busy": "2021-05-19T06:56:52.725141Z",
     "iopub.status.idle": "2021-05-19T06:56:52.727405Z",
     "shell.execute_reply": "2021-05-19T06:56:52.727003Z"
    },
    "id": "IlCgQBRVymwR"
   },
   "outputs": [
    {
     "name": "stdout",
     "output_type": "stream",
     "text": [
      "85 unique characters\n"
     ]
    }
   ],
   "source": [
    "# The unique characters in the file\n",
    "vocab = sorted(set(text))\n",
    "print(f'{len(vocab)} unique characters')"
   ]
  },
  {
   "cell_type": "markdown",
   "metadata": {
    "id": "rNnrKn_lL-IJ"
   },
   "source": [
    "## Process the text"
   ]
  },
  {
   "cell_type": "markdown",
   "metadata": {
    "id": "LFjSVAlWzf-N"
   },
   "source": [
    "### Vectorize the text\n",
    "\n",
    "Before training, you need to convert the strings to a numerical representation. \n",
    "\n",
    "The `preprocessing.StringLookup` layer can convert each character into a numeric ID. It just needs the text to be split into tokens first."
   ]
  },
  {
   "cell_type": "code",
   "execution_count": 7,
   "metadata": {
    "execution": {
     "iopub.execute_input": "2021-05-19T06:56:53.385398Z",
     "iopub.status.busy": "2021-05-19T06:56:53.384683Z",
     "iopub.status.idle": "2021-05-19T06:56:53.665296Z",
     "shell.execute_reply": "2021-05-19T06:56:53.665662Z"
    },
    "id": "a86OoYtO01go"
   },
   "outputs": [
    {
     "data": {
      "text/plain": [
       "<tf.RaggedTensor [[b'a', b'b', b'c', b'd', b'e', b'f', b'g'], [b'x', b'y', b'z']]>"
      ]
     },
     "execution_count": 7,
     "metadata": {},
     "output_type": "execute_result"
    }
   ],
   "source": [
    "example_texts = ['abcdefg', 'xyz']\n",
    "\n",
    "chars = tf.strings.unicode_split(example_texts, input_encoding='UTF-8')\n",
    "chars"
   ]
  },
  {
   "cell_type": "markdown",
   "metadata": {
    "id": "1s4f1q3iqY8f"
   },
   "source": [
    "Now create the `preprocessing.StringLookup` layer:"
   ]
  },
  {
   "cell_type": "code",
   "execution_count": 8,
   "metadata": {
    "execution": {
     "iopub.execute_input": "2021-05-19T06:56:53.669606Z",
     "iopub.status.busy": "2021-05-19T06:56:53.669074Z",
     "iopub.status.idle": "2021-05-19T06:56:53.679991Z",
     "shell.execute_reply": "2021-05-19T06:56:53.679493Z"
    },
    "id": "6GMlCe3qzaL9"
   },
   "outputs": [],
   "source": [
    "ids_from_chars = preprocessing.StringLookup(\n",
    "    vocabulary=list(vocab), mask_token=None)"
   ]
  },
  {
   "cell_type": "markdown",
   "metadata": {
    "id": "ZmX_jbgQqfOi"
   },
   "source": [
    "It converts form tokens to character IDs:"
   ]
  },
  {
   "cell_type": "code",
   "execution_count": 9,
   "metadata": {
    "execution": {
     "iopub.execute_input": "2021-05-19T06:56:53.684168Z",
     "iopub.status.busy": "2021-05-19T06:56:53.683353Z",
     "iopub.status.idle": "2021-05-19T06:56:53.687707Z",
     "shell.execute_reply": "2021-05-19T06:56:53.688088Z"
    },
    "id": "WLv5Q_2TC2pc"
   },
   "outputs": [
    {
     "data": {
      "text/plain": [
       "<tf.RaggedTensor [[55, 56, 57, 58, 59, 60, 61], [78, 79, 80]]>"
      ]
     },
     "execution_count": 9,
     "metadata": {},
     "output_type": "execute_result"
    }
   ],
   "source": [
    "ids = ids_from_chars(chars)\n",
    "ids"
   ]
  },
  {
   "cell_type": "markdown",
   "metadata": {
    "id": "tZfqhkYCymwX"
   },
   "source": [
    "Since the goal of this tutorial is to generate text, it will also be important to invert this representation and recover human-readable strings from it. For this you can use `preprocessing.StringLookup(..., invert=True)`.  "
   ]
  },
  {
   "cell_type": "markdown",
   "metadata": {
    "id": "uenivzwqsDhp"
   },
   "source": [
    "Note: Here instead of passing the original vocabulary generated with `sorted(set(text))` use the `get_vocabulary()` method of the `preprocessing.StringLookup` layer so that the `[UNK]` tokens is set the same way."
   ]
  },
  {
   "cell_type": "code",
   "execution_count": 10,
   "metadata": {
    "execution": {
     "iopub.execute_input": "2021-05-19T06:56:53.693145Z",
     "iopub.status.busy": "2021-05-19T06:56:53.692603Z",
     "iopub.status.idle": "2021-05-19T06:56:53.695334Z",
     "shell.execute_reply": "2021-05-19T06:56:53.695703Z"
    },
    "id": "Wd2m3mqkDjRj"
   },
   "outputs": [],
   "source": [
    "chars_from_ids = tf.keras.layers.experimental.preprocessing.StringLookup(\n",
    "    vocabulary=ids_from_chars.get_vocabulary(), invert=True, mask_token=None)"
   ]
  },
  {
   "cell_type": "markdown",
   "metadata": {
    "id": "pqTDDxS-s-H8"
   },
   "source": [
    "This layer recovers the characters from the vectors of IDs, and returns them as a `tf.RaggedTensor` of characters:"
   ]
  },
  {
   "cell_type": "code",
   "execution_count": 11,
   "metadata": {
    "execution": {
     "iopub.execute_input": "2021-05-19T06:56:53.699202Z",
     "iopub.status.busy": "2021-05-19T06:56:53.698622Z",
     "iopub.status.idle": "2021-05-19T06:56:53.702434Z",
     "shell.execute_reply": "2021-05-19T06:56:53.702046Z"
    },
    "id": "c2GCh0ySD44s"
   },
   "outputs": [
    {
     "data": {
      "text/plain": [
       "<tf.RaggedTensor [[b'a', b'b', b'c', b'd', b'e', b'f', b'g'], [b'x', b'y', b'z']]>"
      ]
     },
     "execution_count": 11,
     "metadata": {},
     "output_type": "execute_result"
    }
   ],
   "source": [
    "chars = chars_from_ids(ids)\n",
    "chars"
   ]
  },
  {
   "cell_type": "markdown",
   "metadata": {
    "id": "-FeW5gqutT3o"
   },
   "source": [
    "You can `tf.strings.reduce_join` to join the characters back into strings. "
   ]
  },
  {
   "cell_type": "code",
   "execution_count": 12,
   "metadata": {
    "execution": {
     "iopub.execute_input": "2021-05-19T06:56:53.706147Z",
     "iopub.status.busy": "2021-05-19T06:56:53.705622Z",
     "iopub.status.idle": "2021-05-19T06:56:53.717374Z",
     "shell.execute_reply": "2021-05-19T06:56:53.716934Z"
    },
    "id": "zxYI-PeltqKP"
   },
   "outputs": [
    {
     "data": {
      "text/plain": [
       "array([b'abcdefg', b'xyz'], dtype=object)"
      ]
     },
     "execution_count": 12,
     "metadata": {},
     "output_type": "execute_result"
    }
   ],
   "source": [
    "tf.strings.reduce_join(chars, axis=-1).numpy()"
   ]
  },
  {
   "cell_type": "code",
   "execution_count": 13,
   "metadata": {
    "execution": {
     "iopub.execute_input": "2021-05-19T06:56:53.720464Z",
     "iopub.status.busy": "2021-05-19T06:56:53.719938Z",
     "iopub.status.idle": "2021-05-19T06:56:53.722136Z",
     "shell.execute_reply": "2021-05-19T06:56:53.721682Z"
    },
    "id": "w5apvBDn9Ind"
   },
   "outputs": [],
   "source": [
    "def text_from_ids(ids):\n",
    "  return tf.strings.reduce_join(chars_from_ids(ids), axis=-1)"
   ]
  },
  {
   "cell_type": "markdown",
   "metadata": {
    "id": "bbmsf23Bymwe"
   },
   "source": [
    "### The prediction task"
   ]
  },
  {
   "cell_type": "markdown",
   "metadata": {
    "id": "wssHQ1oGymwe"
   },
   "source": [
    "Given a character, or a sequence of characters, what is the most probable next character? This is the task you're training the model to perform. The input to the model will be a sequence of characters, and you train the model to predict the output—the following character at each time step.\n",
    "\n",
    "Since RNNs maintain an internal state that depends on the previously seen elements, given all the characters computed until this moment, what is the next character?\n"
   ]
  },
  {
   "cell_type": "markdown",
   "metadata": {
    "id": "hgsVvVxnymwf"
   },
   "source": [
    "### Create training examples and targets\n",
    "\n",
    "Next divide the text into example sequences. Each input sequence will contain `seq_length` characters from the text.\n",
    "\n",
    "For each input sequence, the corresponding targets contain the same length of text, except shifted one character to the right.\n",
    "\n",
    "So break the text into chunks of `seq_length+1`. For example, say `seq_length` is 4 and our text is \"Hello\". The input sequence would be \"Hell\", and the target sequence \"ello\".\n",
    "\n",
    "To do this first use the `tf.data.Dataset.from_tensor_slices` function to convert the text vector into a stream of character indices."
   ]
  },
  {
   "cell_type": "code",
   "execution_count": 14,
   "metadata": {
    "execution": {
     "iopub.execute_input": "2021-05-19T06:56:53.726660Z",
     "iopub.status.busy": "2021-05-19T06:56:53.726142Z",
     "iopub.status.idle": "2021-05-19T06:56:54.178268Z",
     "shell.execute_reply": "2021-05-19T06:56:54.177743Z"
    },
    "id": "UopbsKi88tm5"
   },
   "outputs": [
    {
     "data": {
      "text/plain": [
       "<tf.Tensor: shape=(270389,), dtype=int64, numpy=array([29, 27, 44, ..., 59, 12,  2])>"
      ]
     },
     "execution_count": 14,
     "metadata": {},
     "output_type": "execute_result"
    }
   ],
   "source": [
    "all_ids = ids_from_chars(tf.strings.unicode_split(text, 'UTF-8'))\n",
    "all_ids"
   ]
  },
  {
   "cell_type": "code",
   "execution_count": 15,
   "metadata": {
    "execution": {
     "iopub.execute_input": "2021-05-19T06:56:54.182284Z",
     "iopub.status.busy": "2021-05-19T06:56:54.181747Z",
     "iopub.status.idle": "2021-05-19T06:56:54.184439Z",
     "shell.execute_reply": "2021-05-19T06:56:54.183971Z"
    },
    "id": "qmxrYDCTy-eL"
   },
   "outputs": [],
   "source": [
    "ids_dataset = tf.data.Dataset.from_tensor_slices(all_ids)"
   ]
  },
  {
   "cell_type": "code",
   "execution_count": 16,
   "metadata": {
    "execution": {
     "iopub.execute_input": "2021-05-19T06:56:54.187642Z",
     "iopub.status.busy": "2021-05-19T06:56:54.187120Z",
     "iopub.status.idle": "2021-05-19T06:56:54.201028Z",
     "shell.execute_reply": "2021-05-19T06:56:54.201429Z"
    },
    "id": "cjH5v45-yqqH"
   },
   "outputs": [
    {
     "name": "stdout",
     "output_type": "stream",
     "text": [
      "C\n",
      "A\n",
      "R\n",
      "L\n",
      "S\n",
      "O\n",
      "N\n",
      ":\n",
      " \n",
      "G\n"
     ]
    }
   ],
   "source": [
    "for ids in ids_dataset.take(10):\n",
    "    print(chars_from_ids(ids).numpy().decode('utf-8'))"
   ]
  },
  {
   "cell_type": "code",
   "execution_count": 17,
   "metadata": {
    "execution": {
     "iopub.execute_input": "2021-05-19T06:56:54.204650Z",
     "iopub.status.busy": "2021-05-19T06:56:54.204148Z",
     "iopub.status.idle": "2021-05-19T06:56:54.205825Z",
     "shell.execute_reply": "2021-05-19T06:56:54.206144Z"
    },
    "id": "C-G2oaTxy6km"
   },
   "outputs": [],
   "source": [
    "seq_length = 100\n",
    "examples_per_epoch = len(text)//(seq_length+1)"
   ]
  },
  {
   "cell_type": "markdown",
   "metadata": {
    "id": "-ZSYAcQV8OGP"
   },
   "source": [
    "The `batch` method lets you easily convert these individual characters to sequences of the desired size."
   ]
  },
  {
   "cell_type": "code",
   "execution_count": 18,
   "metadata": {
    "execution": {
     "iopub.execute_input": "2021-05-19T06:56:54.209839Z",
     "iopub.status.busy": "2021-05-19T06:56:54.209318Z",
     "iopub.status.idle": "2021-05-19T06:56:54.217843Z",
     "shell.execute_reply": "2021-05-19T06:56:54.218166Z"
    },
    "id": "BpdjRO2CzOfZ"
   },
   "outputs": [
    {
     "name": "stdout",
     "output_type": "stream",
     "text": [
      "tf.Tensor(\n",
      "[b'C' b'A' b'R' b'L' b'S' b'O' b'N' b':' b' ' b'G' b'o' b'o' b'd' b' '\n",
      " b'e' b'v' b'e' b'n' b'i' b'n' b'g' b' ' b'a' b'n' b'd' b' ' b'w' b'e'\n",
      " b'l' b'c' b'o' b'm' b'e' b' ' b't' b'o' b' ' b'T' b'U' b'C' b'K' b'E'\n",
      " b'R' b' ' b'C' b'A' b'R' b'L' b'S' b'O' b'N' b' ' b'T' b'O' b'N' b'I'\n",
      " b'G' b'H' b'T' b'.' b'\\n' b'\\n' b'A' b' ' b'l' b'o' b't' b' ' b'o' b'f'\n",
      " b' ' b'A' b'm' b'e' b'r' b'i' b'c' b'a' b'n' b's' b',' b' ' b'a' b' '\n",
      " b'l' b'o' b't' b' ' b'o' b'f' b' ' b'p' b'e' b'o' b'p' b'l' b'e' b' '\n",
      " b'i' b'n' b' '], shape=(101,), dtype=string)\n"
     ]
    }
   ],
   "source": [
    "sequences = ids_dataset.batch(seq_length+1, drop_remainder=True)\n",
    "\n",
    "for seq in sequences.take(1):\n",
    "  print(chars_from_ids(seq))"
   ]
  },
  {
   "cell_type": "markdown",
   "metadata": {
    "id": "5PHW902-4oZt"
   },
   "source": [
    "It's easier to see what this is doing if you join the tokens back into strings:"
   ]
  },
  {
   "cell_type": "code",
   "execution_count": 19,
   "metadata": {
    "execution": {
     "iopub.execute_input": "2021-05-19T06:56:54.221756Z",
     "iopub.status.busy": "2021-05-19T06:56:54.221148Z",
     "iopub.status.idle": "2021-05-19T06:56:54.231349Z",
     "shell.execute_reply": "2021-05-19T06:56:54.231721Z"
    },
    "id": "QO32cMWu4a06"
   },
   "outputs": [
    {
     "name": "stdout",
     "output_type": "stream",
     "text": [
      "b'CARLSON: Good evening and welcome to TUCKER CARLSON TONIGHT.\\n\\nA lot of Americans, a lot of people in '\n",
      "b\"the West are under severe pressure right now to conform, and most of them do conform because they're \"\n",
      "b\"afraid.\\n\\nBut it's interesting to see who doesn't conform, who refuses to repeat the slogans, who stan\"\n",
      "b\"ds up. Piers Morgan is one of those people. I am not sure you would have guessed that, but it's defin\"\n",
      "b'itely true. He lost his job for telling what he believes is the truth.\\n\\nWe had a very long conversati'\n"
     ]
    }
   ],
   "source": [
    "for seq in sequences.take(5):\n",
    "  print(text_from_ids(seq).numpy())"
   ]
  },
  {
   "cell_type": "markdown",
   "metadata": {
    "id": "UbLcIPBj_mWZ"
   },
   "source": [
    "For training you'll need a dataset of `(input, label)` pairs. Where `input` and \n",
    "`label` are sequences. At each time step the input is the current character and the label is the next character. \n",
    "\n",
    "Here's a function that takes a sequence as input, duplicates, and shifts it to align the input and label for each timestep:"
   ]
  },
  {
   "cell_type": "code",
   "execution_count": 20,
   "metadata": {
    "execution": {
     "iopub.execute_input": "2021-05-19T06:56:54.235489Z",
     "iopub.status.busy": "2021-05-19T06:56:54.234964Z",
     "iopub.status.idle": "2021-05-19T06:56:54.236520Z",
     "shell.execute_reply": "2021-05-19T06:56:54.236838Z"
    },
    "id": "9NGu-FkO_kYU"
   },
   "outputs": [],
   "source": [
    "def split_input_target(sequence):\n",
    "    input_text = sequence[:-1]\n",
    "    target_text = sequence[1:]\n",
    "    return input_text, target_text"
   ]
  },
  {
   "cell_type": "code",
   "execution_count": 21,
   "metadata": {
    "execution": {
     "iopub.execute_input": "2021-05-19T06:56:54.240666Z",
     "iopub.status.busy": "2021-05-19T06:56:54.240101Z",
     "iopub.status.idle": "2021-05-19T06:56:54.242258Z",
     "shell.execute_reply": "2021-05-19T06:56:54.242609Z"
    },
    "id": "WxbDTJTw5u_P"
   },
   "outputs": [
    {
     "data": {
      "text/plain": [
       "(['T', 'e', 'n', 's', 'o', 'r', 'f', 'l', 'o'],\n",
       " ['e', 'n', 's', 'o', 'r', 'f', 'l', 'o', 'w'])"
      ]
     },
     "execution_count": 21,
     "metadata": {},
     "output_type": "execute_result"
    }
   ],
   "source": [
    "split_input_target(list(\"Tensorflow\"))"
   ]
  },
  {
   "cell_type": "code",
   "execution_count": 22,
   "metadata": {
    "execution": {
     "iopub.execute_input": "2021-05-19T06:56:54.247032Z",
     "iopub.status.busy": "2021-05-19T06:56:54.246518Z",
     "iopub.status.idle": "2021-05-19T06:56:54.285956Z",
     "shell.execute_reply": "2021-05-19T06:56:54.285524Z"
    },
    "id": "B9iKPXkw5xwa"
   },
   "outputs": [],
   "source": [
    "dataset = sequences.map(split_input_target)"
   ]
  },
  {
   "cell_type": "code",
   "execution_count": 23,
   "metadata": {
    "execution": {
     "iopub.execute_input": "2021-05-19T06:56:54.289919Z",
     "iopub.status.busy": "2021-05-19T06:56:54.289382Z",
     "iopub.status.idle": "2021-05-19T06:56:54.309792Z",
     "shell.execute_reply": "2021-05-19T06:56:54.309363Z"
    },
    "id": "GNbw-iR0ymwj"
   },
   "outputs": [
    {
     "name": "stdout",
     "output_type": "stream",
     "text": [
      "Input : b'CARLSON: Good evening and welcome to TUCKER CARLSON TONIGHT.\\n\\nA lot of Americans, a lot of people in'\n",
      "Target: b'ARLSON: Good evening and welcome to TUCKER CARLSON TONIGHT.\\n\\nA lot of Americans, a lot of people in '\n"
     ]
    }
   ],
   "source": [
    "for input_example, target_example in dataset.take(1):\n",
    "    print(\"Input :\", text_from_ids(input_example).numpy())\n",
    "    print(\"Target:\", text_from_ids(target_example).numpy())"
   ]
  },
  {
   "cell_type": "markdown",
   "metadata": {
    "id": "MJdfPmdqzf-R"
   },
   "source": [
    "### Create training batches\n",
    "\n",
    "You used `tf.data` to split the text into manageable sequences. But before feeding this data into the model, you need to shuffle the data and pack it into batches."
   ]
  },
  {
   "cell_type": "code",
   "execution_count": 24,
   "metadata": {
    "execution": {
     "iopub.execute_input": "2021-05-19T06:56:54.313573Z",
     "iopub.status.busy": "2021-05-19T06:56:54.313015Z",
     "iopub.status.idle": "2021-05-19T06:56:54.317185Z",
     "shell.execute_reply": "2021-05-19T06:56:54.317528Z"
    },
    "id": "p2pGotuNzf-S"
   },
   "outputs": [
    {
     "data": {
      "text/plain": [
       "<PrefetchDataset shapes: ((64, 100), (64, 100)), types: (tf.int64, tf.int64)>"
      ]
     },
     "execution_count": 24,
     "metadata": {},
     "output_type": "execute_result"
    }
   ],
   "source": [
    "# Batch size\n",
    "BATCH_SIZE = 64\n",
    "\n",
    "# Buffer size to shuffle the dataset\n",
    "# (TF data is designed to work with possibly infinite sequences,\n",
    "# so it doesn't attempt to shuffle the entire sequence in memory. Instead,\n",
    "# it maintains a buffer in which it shuffles elements).\n",
    "BUFFER_SIZE = 10000\n",
    "\n",
    "dataset = (\n",
    "    dataset\n",
    "    .shuffle(BUFFER_SIZE)\n",
    "    .batch(BATCH_SIZE, drop_remainder=True)\n",
    "    .prefetch(tf.data.experimental.AUTOTUNE))\n",
    "\n",
    "dataset"
   ]
  },
  {
   "cell_type": "markdown",
   "metadata": {
    "id": "r6oUuElIMgVx"
   },
   "source": [
    "## Build The Model"
   ]
  },
  {
   "cell_type": "markdown",
   "metadata": {
    "id": "m8gPwEjRzf-Z"
   },
   "source": [
    "This section defines the model as a `keras.Model` subclass (For details see [Making new Layers and Models via subclassing](https://www.tensorflow.org/guide/keras/custom_layers_and_models)). \n",
    "\n",
    "This model has three layers:\n",
    "\n",
    "* `tf.keras.layers.Embedding`: The input layer. A trainable lookup table that will map each character-ID to a vector with `embedding_dim` dimensions;\n",
    "* `tf.keras.layers.GRU`: A type of RNN with size `units=rnn_units` (You can also use an LSTM layer here.)\n",
    "* `tf.keras.layers.Dense`: The output layer, with `vocab_size` outputs. It outputs one logit for each character in the vocabulary. These are the log-likelihood of each character according to the model."
   ]
  },
  {
   "cell_type": "code",
   "execution_count": 25,
   "metadata": {
    "execution": {
     "iopub.execute_input": "2021-05-19T06:56:54.321141Z",
     "iopub.status.busy": "2021-05-19T06:56:54.320506Z",
     "iopub.status.idle": "2021-05-19T06:56:54.322574Z",
     "shell.execute_reply": "2021-05-19T06:56:54.322160Z"
    },
    "id": "zHT8cLh7EAsg"
   },
   "outputs": [],
   "source": [
    "# Length of the vocabulary in chars\n",
    "vocab_size = len(vocab)\n",
    "\n",
    "# The embedding dimension\n",
    "embedding_dim = 256\n",
    "\n",
    "# Number of RNN units\n",
    "rnn_units = 1024"
   ]
  },
  {
   "cell_type": "code",
   "execution_count": 26,
   "metadata": {
    "execution": {
     "iopub.execute_input": "2021-05-19T06:56:54.328043Z",
     "iopub.status.busy": "2021-05-19T06:56:54.327518Z",
     "iopub.status.idle": "2021-05-19T06:56:54.329161Z",
     "shell.execute_reply": "2021-05-19T06:56:54.329502Z"
    },
    "id": "wj8HQ2w8z4iO"
   },
   "outputs": [],
   "source": [
    "class MyModel(tf.keras.Model):\n",
    "    def __init__(self, vocab_size, embedding_dim, rnn_units):\n",
    "        super().__init__(self)\n",
    "        self.embedding = tf.keras.layers.Embedding(vocab_size, embedding_dim)\n",
    "        self.gru = tf.keras.layers.GRU(rnn_units\n",
    "                                       return_sequences=True,\n",
    "                                       return_state=True)\n",
    "        self.dense = tf.keras.layers.Dense(vocab_size)\n",
    "        \n",
    "        \n",
    "    def call(self, inputs, states=None, return_state=False, training=False):\n",
    "\n",
    "        x = inputs\n",
    "        x = self.embedding(x, training=training)\n",
    "        if states is None:\n",
    "            states = self.gru.get_initial_state(x)\n",
    "            x, states = self.gru(x, initial_state=states, training=training)\n",
    "            x = self.dense(x, training=training)\n",
    "                \n",
    "        if return_state:\n",
    "            return x, states\n",
    "        else:\n",
    "            return x"
   ]
  },
  {
   "cell_type": "code",
   "execution_count": null,
   "metadata": {
    "execution": {
     "iopub.execute_input": "2021-05-19T06:56:54.333853Z",
     "iopub.status.busy": "2021-05-19T06:56:54.333322Z",
     "iopub.status.idle": "2021-05-19T06:56:54.342590Z",
     "shell.execute_reply": "2021-05-19T06:56:54.342171Z"
    },
    "id": "IX58Xj9z47Aw"
   },
   "outputs": [],
   "source": [
    "model = MyModel(\n",
    "    # Be sure the vocabulary size matches the `StringLookup` layers.\n",
    "    vocab_size=len(ids_from_chars.get_vocabulary()),\n",
    "    embedding_dim=embedding_dim,\n",
    "    rnn_units=rnn_units)"
   ]
  },
  {
   "cell_type": "markdown",
   "metadata": {
    "id": "RkA5upJIJ7W7"
   },
   "source": [
    "For each character the model looks up the embedding, runs the GRU one timestep with the embedding as input, and applies the dense layer to generate logits predicting the log-likelihood of the next character:\n",
    "\n",
    "![A drawing of the data passing through the model](images/text_generation_training.png)"
   ]
  },
  {
   "cell_type": "markdown",
   "metadata": {
    "id": "gKbfm04amhXk"
   },
   "source": [
    "Note: For training you could use a `keras.Sequential` model here. To  generate text later you'll need to manage the RNN's internal state. It's simpler to include the state input and output options upfront, than it is to rearrange the model architecture later. For more details see the [Keras RNN guide](https://www.tensorflow.org/guide/keras/rnn#rnn_state_reuse)."
   ]
  },
  {
   "cell_type": "markdown",
   "metadata": {
    "id": "-ubPo0_9Prjb"
   },
   "source": [
    "## Try the model\n",
    "\n",
    "Now run the model to see that it behaves as expected.\n",
    "\n",
    "First check the shape of the output:"
   ]
  },
  {
   "cell_type": "code",
   "execution_count": null,
   "metadata": {
    "execution": {
     "iopub.execute_input": "2021-05-19T06:56:54.346775Z",
     "iopub.status.busy": "2021-05-19T06:56:54.346252Z",
     "iopub.status.idle": "2021-05-19T06:56:56.929774Z",
     "shell.execute_reply": "2021-05-19T06:56:56.930107Z"
    },
    "id": "C-_70kKAPrPU"
   },
   "outputs": [],
   "source": [
    "for input_example_batch, target_example_batch in dataset.take(1):\n",
    "    example_batch_predictions = model(input_example_batch)\n",
    "    print(example_batch_predictions.shape, \"# (batch_size, sequence_length, vocab_size)\")"
   ]
  },
  {
   "cell_type": "markdown",
   "metadata": {
    "id": "Q6NzLBi4VM4o"
   },
   "source": [
    "In the above example the sequence length of the input is `100` but the model can be run on inputs of any length:"
   ]
  },
  {
   "cell_type": "code",
   "execution_count": null,
   "metadata": {
    "execution": {
     "iopub.execute_input": "2021-05-19T06:56:56.934777Z",
     "iopub.status.busy": "2021-05-19T06:56:56.934227Z",
     "iopub.status.idle": "2021-05-19T06:56:56.936904Z",
     "shell.execute_reply": "2021-05-19T06:56:56.937297Z"
    },
    "id": "vPGmAAXmVLGC"
   },
   "outputs": [],
   "source": [
    "model.summary()"
   ]
  },
  {
   "cell_type": "markdown",
   "metadata": {
    "id": "uwv0gEkURfx1"
   },
   "source": [
    "To get actual predictions from the model you need to sample from the output distribution, to get actual character indices. This distribution is defined by the logits over the character vocabulary.\n",
    "\n",
    "Note: It is important to _sample_ from this distribution as taking the _argmax_ of the distribution can easily get the model stuck in a loop.\n",
    "\n",
    "Try it for the first example in the batch:"
   ]
  },
  {
   "cell_type": "code",
   "execution_count": null,
   "metadata": {
    "execution": {
     "iopub.execute_input": "2021-05-19T06:56:56.941105Z",
     "iopub.status.busy": "2021-05-19T06:56:56.940498Z",
     "iopub.status.idle": "2021-05-19T06:56:56.943038Z",
     "shell.execute_reply": "2021-05-19T06:56:56.943422Z"
    },
    "id": "4V4MfFg0RQJg"
   },
   "outputs": [],
   "source": [
    "sampled_indices = tf.random.categorical(example_batch_predictions[0], num_samples=1)\n",
    "sampled_indices = tf.squeeze(sampled_indices, axis=-1).numpy()"
   ]
  },
  {
   "cell_type": "markdown",
   "metadata": {
    "id": "QM1Vbxs_URw5"
   },
   "source": [
    "This gives us, at each timestep, a prediction of the next character index:"
   ]
  },
  {
   "cell_type": "code",
   "execution_count": null,
   "metadata": {
    "execution": {
     "iopub.execute_input": "2021-05-19T06:56:56.947411Z",
     "iopub.status.busy": "2021-05-19T06:56:56.946855Z",
     "iopub.status.idle": "2021-05-19T06:56:56.949283Z",
     "shell.execute_reply": "2021-05-19T06:56:56.948864Z"
    },
    "id": "YqFMUQc_UFgM"
   },
   "outputs": [],
   "source": [
    "sampled_indices"
   ]
  },
  {
   "cell_type": "markdown",
   "metadata": {
    "id": "LfLtsP3mUhCG"
   },
   "source": [
    "Decode these to see the text predicted by this untrained model:"
   ]
  },
  {
   "cell_type": "code",
   "execution_count": null,
   "metadata": {
    "execution": {
     "iopub.execute_input": "2021-05-19T06:56:56.952756Z",
     "iopub.status.busy": "2021-05-19T06:56:56.952232Z",
     "iopub.status.idle": "2021-05-19T06:56:56.956214Z",
     "shell.execute_reply": "2021-05-19T06:56:56.956550Z"
    },
    "id": "xWcFwPwLSo05"
   },
   "outputs": [],
   "source": [
    "print(\"Input:\\n\", text_from_ids(input_example_batch[0]).numpy())\n",
    "print()\n",
    "print(\"Next Char Predictions:\\n\", text_from_ids(sampled_indices).numpy())"
   ]
  },
  {
   "cell_type": "markdown",
   "metadata": {
    "id": "ieSJdchZggUj"
   },
   "source": [
    "### Configure checkpoints"
   ]
  },
  {
   "cell_type": "markdown",
   "metadata": {
    "id": "C6XBUUavgF56"
   },
   "source": [
    "Use a `tf.keras.callbacks.ModelCheckpoint` to ensure that checkpoints are saved during training:"
   ]
  },
  {
   "cell_type": "code",
   "execution_count": 46,
   "metadata": {
    "execution": {
     "iopub.execute_input": "2021-05-19T06:56:56.991660Z",
     "iopub.status.busy": "2021-05-19T06:56:56.991064Z",
     "iopub.status.idle": "2021-05-19T06:56:56.993188Z",
     "shell.execute_reply": "2021-05-19T06:56:56.992730Z"
    },
    "id": "W6fWTriUZP-n"
   },
   "outputs": [],
   "source": [
    "# Directory where the checkpoints will be saved\n",
    "checkpoint_dir = './training_checkpoints'\n",
    "# Name of the checkpoint files\n",
    "checkpoint_prefix = os.path.join(checkpoint_dir, \"ckpt_{epoch}\")\n",
    "\n",
    "checkpoint_callback = tf.keras.callbacks.ModelCheckpoint(\n",
    "    filepath=checkpoint_prefix,\n",
    "    save_weights_only=True)"
   ]
  },
  {
   "cell_type": "code",
   "execution_count": null,
   "metadata": {},
   "outputs": [],
   "source": []
  },
  {
   "cell_type": "code",
   "execution_count": null,
   "metadata": {
    "execution": {
     "iopub.execute_input": "2021-05-19T06:58:46.007543Z",
     "iopub.status.busy": "2021-05-19T06:58:46.007007Z",
     "iopub.status.idle": "2021-05-19T06:58:48.146688Z",
     "shell.execute_reply": "2021-05-19T06:58:48.147016Z"
    },
    "id": "ZkLu7Y8UCMT7"
   },
   "outputs": [],
   "source": [
    "start = time.time()\n",
    "states = None\n",
    "\n",
    "next_char = tf.constant(seed5)\n",
    "\n",
    "result = [next_char]\n",
    "\n",
    "for n in range(1000):\n",
    "  next_char, states = one_step_model.generate_one_step(next_char, states=states)\n",
    "  result.append(next_char)\n",
    "\n",
    "result = tf.strings.join(result)\n",
    "end = time.time()\n",
    "# print(result, '\\n\\n' + '_'*80)\n",
    "# print('\\nRun time:', end - start)"
   ]
  },
  {
   "cell_type": "markdown",
   "metadata": {
    "id": "Y4QwTjAM6A2O"
   },
   "source": [
    "## Train the Model"
   ]
  },
  {
   "cell_type": "code",
   "execution_count": 27,
   "metadata": {
    "execution": {
     "iopub.execute_input": "2021-05-19T06:58:54.502362Z",
     "iopub.status.busy": "2021-05-19T06:58:54.501742Z",
     "iopub.status.idle": "2021-05-19T06:58:54.503900Z",
     "shell.execute_reply": "2021-05-19T06:58:54.504220Z"
    },
    "id": "x0pZ101hjwW0"
   },
   "outputs": [],
   "source": [
    "class CustomTraining(MyModel):\n",
    "  @tf.function\n",
    "  def train_step(self, inputs):\n",
    "        inputs, labels = inputs\n",
    "        \n",
    "        with tf.GradientTape() as tape:\n",
    "            predictions = self(inputs, training=True)\n",
    "            loss = self.loss(labels, predictions)\n",
    "        grads = tape.gradient(loss, model.trainable_variables)\n",
    "        self.optimizer.apply_gradients(zip(grads, model.trainable_variables))\n",
    "        \n",
    "        return {'loss': loss}"
   ]
  },
  {
   "cell_type": "markdown",
   "metadata": {
    "id": "4Oc-eJALcK8B"
   },
   "source": [
    "The above implementation of the `train_step` method follows [Keras' `train_step` conventions](https://www.tensorflow.org/guide/keras/customizing_what_happens_in_fit). This is optional, but it allows you to change the behavior of the train step and still use keras' `Model.compile` and `Model.fit` methods."
   ]
  },
  {
   "cell_type": "code",
   "execution_count": 28,
   "metadata": {
    "execution": {
     "iopub.execute_input": "2021-05-19T06:58:54.508992Z",
     "iopub.status.busy": "2021-05-19T06:58:54.508307Z",
     "iopub.status.idle": "2021-05-19T06:58:54.514434Z",
     "shell.execute_reply": "2021-05-19T06:58:54.514033Z"
    },
    "id": "XKyWiZ_Lj7w5"
   },
   "outputs": [],
   "source": [
    "model = CustomTraining(\n",
    "    vocab_size=len(ids_from_chars.get_vocabulary()),\n",
    "    embedding_dim=embedding_dim,\n",
    "    rnn_units=rnn_units)"
   ]
  },
  {
   "cell_type": "code",
   "execution_count": 29,
   "metadata": {
    "execution": {
     "iopub.execute_input": "2021-05-19T06:58:54.520009Z",
     "iopub.status.busy": "2021-05-19T06:58:54.519175Z",
     "iopub.status.idle": "2021-05-19T06:58:54.522965Z",
     "shell.execute_reply": "2021-05-19T06:58:54.522499Z"
    },
    "id": "U817KUm7knlm"
   },
   "outputs": [],
   "source": [
    "model.compile(optimizer = tf.keras.optimizers.Adam(),\n",
    "              loss=tf.keras.losses.SparseCategoricalCrossentropy(from_logits=True))"
   ]
  },
  {
   "cell_type": "code",
   "execution_count": 30,
   "metadata": {
    "execution": {
     "iopub.execute_input": "2021-05-19T06:58:54.526470Z",
     "iopub.status.busy": "2021-05-19T06:58:54.525952Z",
     "iopub.status.idle": "2021-05-19T06:59:01.359181Z",
     "shell.execute_reply": "2021-05-19T06:59:01.359508Z"
    },
    "id": "o694aoBPnEi9"
   },
   "outputs": [
    {
     "name": "stdout",
     "output_type": "stream",
     "text": [
      "41/41 [==============================] - 167s 4s/step - loss: 3.5352\n"
     ]
    },
    {
     "data": {
      "text/plain": [
       "<tensorflow.python.keras.callbacks.History at 0x7faf6730a090>"
      ]
     },
     "execution_count": 30,
     "metadata": {},
     "output_type": "execute_result"
    }
   ],
   "source": [
    "model.fit(dataset, epochs=1)"
   ]
  },
  {
   "cell_type": "markdown",
   "metadata": {
    "id": "W8nAtKHVoInR"
   },
   "source": [
    "Or if you need more control, you can write your own complete custom training loop:"
   ]
  },
  {
   "cell_type": "code",
   "execution_count": 47,
   "metadata": {
    "execution": {
     "iopub.execute_input": "2021-05-19T06:59:01.366769Z",
     "iopub.status.busy": "2021-05-19T06:59:01.366235Z",
     "iopub.status.idle": "2021-05-19T06:59:54.811011Z",
     "shell.execute_reply": "2021-05-19T06:59:54.811386Z"
    },
    "id": "d4tSNwymzf-q"
   },
   "outputs": [
    {
     "name": "stdout",
     "output_type": "stream",
     "text": [
      "Epoch 7 Batch 0 Loss 1.8973\n",
      "\n",
      "Epoch 7 Loss: 1.8613\n",
      "Time taken for 1 epoch 177.76 sec\n",
      "________________________________________________________________________________\n",
      "Epoch 8 Batch 0 Loss 1.7770\n",
      "\n",
      "Epoch 8 Loss: 1.7651\n",
      "Time taken for 1 epoch 253.73 sec\n",
      "________________________________________________________________________________\n",
      "Epoch 9 Batch 0 Loss 1.6868\n",
      "\n",
      "Epoch 9 Loss: 1.6719\n",
      "Time taken for 1 epoch 255.98 sec\n",
      "________________________________________________________________________________\n",
      "Epoch 10 Batch 0 Loss 1.5929\n",
      "\n",
      "Epoch 10 Loss: 1.5865\n",
      "Time taken for 1 epoch 249.94 sec\n",
      "________________________________________________________________________________\n",
      "Epoch 11 Batch 0 Loss 1.5717\n",
      "\n",
      "Epoch 11 Loss: 1.5079\n",
      "Time taken for 1 epoch 249.39 sec\n",
      "________________________________________________________________________________\n",
      "Epoch 12 Batch 0 Loss 1.4450\n",
      "\n",
      "Epoch 12 Loss: 1.4358\n",
      "Time taken for 1 epoch 226.08 sec\n",
      "________________________________________________________________________________\n",
      "Epoch 13 Batch 0 Loss 1.3640\n",
      "\n",
      "Epoch 13 Loss: 1.3694\n",
      "Time taken for 1 epoch 189.91 sec\n",
      "________________________________________________________________________________\n",
      "Epoch 14 Batch 0 Loss 1.3010\n",
      "\n",
      "Epoch 14 Loss: 1.3078\n",
      "Time taken for 1 epoch 153.86 sec\n",
      "________________________________________________________________________________\n",
      "Epoch 15 Batch 0 Loss 1.2590\n",
      "\n",
      "Epoch 15 Loss: 1.2513\n",
      "Time taken for 1 epoch 155.35 sec\n",
      "________________________________________________________________________________\n",
      "Epoch 16 Batch 0 Loss 1.1863\n",
      "\n",
      "Epoch 16 Loss: 1.1931\n",
      "Time taken for 1 epoch 154.62 sec\n",
      "________________________________________________________________________________\n",
      "Epoch 17 Batch 0 Loss 1.0999\n",
      "\n",
      "Epoch 17 Loss: 1.1381\n",
      "Time taken for 1 epoch 194.35 sec\n",
      "________________________________________________________________________________\n",
      "Epoch 18 Batch 0 Loss 1.0311\n",
      "\n",
      "Epoch 18 Loss: 1.0856\n",
      "Time taken for 1 epoch 175.56 sec\n",
      "________________________________________________________________________________\n",
      "Epoch 19 Batch 0 Loss 1.0321\n",
      "\n",
      "Epoch 19 Loss: 1.0313\n",
      "Time taken for 1 epoch 176.86 sec\n",
      "________________________________________________________________________________\n",
      "Epoch 20 Batch 0 Loss 0.9239\n",
      "\n",
      "Epoch 20 Loss: 0.9781\n",
      "Time taken for 1 epoch 174.97 sec\n",
      "________________________________________________________________________________\n",
      "Epoch 21 Batch 0 Loss 0.9207\n",
      "\n",
      "Epoch 21 Loss: 0.9210\n",
      "Time taken for 1 epoch 185.54 sec\n",
      "________________________________________________________________________________\n",
      "Epoch 22 Batch 0 Loss 0.8466\n",
      "\n",
      "Epoch 22 Loss: 0.8636\n",
      "Time taken for 1 epoch 175.01 sec\n",
      "________________________________________________________________________________\n",
      "Epoch 23 Batch 0 Loss 0.7648\n",
      "\n",
      "Epoch 23 Loss: 0.8062\n",
      "Time taken for 1 epoch 166.21 sec\n",
      "________________________________________________________________________________\n",
      "Epoch 24 Batch 0 Loss 0.7219\n",
      "\n",
      "Epoch 24 Loss: 0.7447\n",
      "Time taken for 1 epoch 143.81 sec\n",
      "________________________________________________________________________________\n",
      "Epoch 25 Batch 0 Loss 0.6409\n",
      "\n",
      "Epoch 25 Loss: 0.6808\n",
      "Time taken for 1 epoch 154.89 sec\n",
      "________________________________________________________________________________\n",
      "Epoch 26 Batch 0 Loss 0.6251\n",
      "\n",
      "Epoch 26 Loss: 0.6194\n",
      "Time taken for 1 epoch 144.43 sec\n",
      "________________________________________________________________________________\n",
      "Epoch 27 Batch 0 Loss 0.5309\n",
      "\n",
      "Epoch 27 Loss: 0.5575\n",
      "Time taken for 1 epoch 150.12 sec\n",
      "________________________________________________________________________________\n",
      "Epoch 28 Batch 0 Loss 0.4592\n",
      "\n",
      "Epoch 28 Loss: 0.4977\n",
      "Time taken for 1 epoch 152.84 sec\n",
      "________________________________________________________________________________\n",
      "Epoch 29 Batch 0 Loss 0.4168\n",
      "\n",
      "Epoch 29 Loss: 0.4408\n",
      "Time taken for 1 epoch 148.50 sec\n",
      "________________________________________________________________________________\n",
      "Epoch 30 Batch 0 Loss 0.3593\n",
      "\n",
      "Epoch 30 Loss: 0.3854\n",
      "Time taken for 1 epoch 144.47 sec\n",
      "________________________________________________________________________________\n",
      "\n",
      "Time: 1h 12m 34.49s\n"
     ]
    }
   ],
   "source": [
    "toc = time.time()\n",
    "\n",
    "EPOCHS = 30\n",
    "\n",
    "mean = tf.metrics.Mean()\n",
    "\n",
    "for epoch in range(6, EPOCHS):\n",
    "    start = time.time()\n",
    "\n",
    "    mean.reset_states()\n",
    "    for (batch_n, (inp, target)) in enumerate(dataset):\n",
    "        logs = model.train_step([inp, target])\n",
    "        mean.update_state(logs['loss'])\n",
    "\n",
    "        if batch_n % 50 == 0:\n",
    "            template = f\"Epoch {epoch+1} Batch {batch_n} Loss {logs['loss']:.4f}\"\n",
    "            print(template)\n",
    "\n",
    "    # saving (checkpoint) the model every 5 epochs\n",
    "    if (epoch + 1) % 5 == 0:\n",
    "        model.save_weights(checkpoint_prefix.format(epoch=epoch))\n",
    "\n",
    "    print()\n",
    "    print(f'Epoch {epoch+1} Loss: {mean.result().numpy():.4f}')\n",
    "    print(f'Time taken for 1 epoch {time.time() - start:.2f} sec')\n",
    "    print(\"_\"*80)\n",
    "\n",
    "model.save_weights(checkpoint_prefix.format(epoch=epoch))\n",
    "\n",
    "tic = time.time()\n",
    "\n",
    "printTime(tic-toc)"
   ]
  },
  {
   "cell_type": "markdown",
   "metadata": {
    "id": "kKkD5M6eoSiN"
   },
   "source": [
    "## Generate text"
   ]
  },
  {
   "cell_type": "markdown",
   "metadata": {
    "id": "DjGz1tDkzf-u"
   },
   "source": [
    "The following makes a single step prediction:"
   ]
  },
  {
   "cell_type": "code",
   "execution_count": 77,
   "metadata": {
    "execution": {
     "iopub.execute_input": "2021-05-19T06:58:43.740475Z",
     "iopub.status.busy": "2021-05-19T06:58:43.739907Z",
     "iopub.status.idle": "2021-05-19T06:58:43.742399Z",
     "shell.execute_reply": "2021-05-19T06:58:43.741925Z"
    },
    "id": "iSBU1tHmlUSs"
   },
   "outputs": [],
   "source": [
    "class OneStep(tf.keras.Model):\n",
    "  def __init__(self, model, chars_from_ids, ids_from_chars, temperature=0.3):\n",
    "    super().__init__()\n",
    "    self.temperature = temperature\n",
    "    self.model = model\n",
    "    self.chars_from_ids = chars_from_ids\n",
    "    self.ids_from_chars = ids_from_chars\n",
    "\n",
    "    # Create a mask to prevent \"[UNK]\" from being generated.\n",
    "    skip_ids = self.ids_from_chars(['[UNK]'])[:, None]\n",
    "    sparse_mask = tf.SparseTensor(\n",
    "        # Put a -inf at each bad index.\n",
    "        values=[-float('inf')]*len(skip_ids),\n",
    "        indices=skip_ids,\n",
    "        # Match the shape to the vocabulary\n",
    "        dense_shape=[len(ids_from_chars.get_vocabulary())])\n",
    "    self.prediction_mask = tf.sparse.to_dense(sparse_mask)\n",
    "\n",
    "  @tf.function\n",
    "  def generate_one_step(self, inputs, states=None):\n",
    "    # Convert strings to token IDs.\n",
    "    input_chars = tf.strings.unicode_split(inputs, 'UTF-8')\n",
    "    input_ids = self.ids_from_chars(input_chars).to_tensor()\n",
    "\n",
    "    # Run the model.\n",
    "    # predicted_logits.shape is [batch, char, next_char_logits]\n",
    "    predicted_logits, states = self.model(inputs=input_ids, states=states,\n",
    "                                          return_state=True)\n",
    "    # Only use the last prediction.\n",
    "    predicted_logits = predicted_logits[:, -1, :]\n",
    "    predicted_logits = predicted_logits/self.temperature\n",
    "    # Apply the prediction mask: prevent \"[UNK]\" from being generated.\n",
    "    predicted_logits = predicted_logits + self.prediction_mask\n",
    "\n",
    "    # Sample the output logits to generate token IDs.\n",
    "    predicted_ids = tf.random.categorical(predicted_logits, num_samples=1)\n",
    "    predicted_ids = tf.squeeze(predicted_ids, axis=-1)\n",
    "\n",
    "    # Convert from token ids to characters\n",
    "    predicted_chars = self.chars_from_ids(predicted_ids)\n",
    "\n",
    "    # Return the characters and model state.\n",
    "    return predicted_chars, states"
   ]
  },
  {
   "cell_type": "code",
   "execution_count": 78,
   "metadata": {
    "execution": {
     "iopub.execute_input": "2021-05-19T06:58:43.746621Z",
     "iopub.status.busy": "2021-05-19T06:58:43.746067Z",
     "iopub.status.idle": "2021-05-19T06:58:43.753379Z",
     "shell.execute_reply": "2021-05-19T06:58:43.752877Z"
    },
    "id": "fqMOuDutnOxK"
   },
   "outputs": [],
   "source": [
    "one_step_model = OneStep(model, chars_from_ids, ids_from_chars)"
   ]
  },
  {
   "cell_type": "markdown",
   "metadata": {
    "id": "p9yDoa0G3IgQ"
   },
   "source": [
    "Run it in a loop to generate some text. Looking at the generated text, you'll see the model knows when to capitalize, make paragraphs and imitates a Shakespeare-like writing vocabulary. With the small number of training epochs, it has not yet learned to form coherent sentences."
   ]
  },
  {
   "cell_type": "markdown",
   "metadata": {},
   "source": [
    "### Initialize a seed phrase"
   ]
  },
  {
   "cell_type": "code",
   "execution_count": 79,
   "metadata": {},
   "outputs": [
    {
     "data": {
      "text/plain": [
       "['UFOs', 'UFOs', 'UFOs', 'UFOs', 'UFOs']"
      ]
     },
     "execution_count": 79,
     "metadata": {},
     "output_type": "execute_result"
    }
   ],
   "source": [
    "# seed = ['in this country']\n",
    "# seed = ['your mask']\n",
    "# seed = ['the question']\n",
    "# seed = ['the president']\n",
    "# seed = ['in new york']\n",
    "# seed = ['CARLSON:']\n",
    "# seed = ['sad']\n",
    "seed = ['UFOs']\n",
    "\n",
    "seed5 = seed*5\n",
    "seed5"
   ]
  },
  {
   "cell_type": "markdown",
   "metadata": {},
   "source": [
    "## Generate Sample Text"
   ]
  },
  {
   "cell_type": "code",
   "execution_count": null,
   "metadata": {
    "execution": {
     "iopub.execute_input": "2021-05-19T06:58:43.781628Z",
     "iopub.status.busy": "2021-05-19T06:58:43.758690Z",
     "iopub.status.idle": "2021-05-19T06:58:46.001292Z",
     "shell.execute_reply": "2021-05-19T06:58:46.001679Z"
    },
    "id": "ST7PSyk9t1mT"
   },
   "outputs": [],
   "source": [
    "start = time.time()\n",
    "states = None\n",
    "\n",
    "next_char = tf.constant(seed)\n",
    "result = [next_char]\n",
    "\n",
    "for n in range(1000):\n",
    "  next_char, states = one_step_model.generate_one_step(next_char, states=states)\n",
    "  result.append(next_char)\n",
    "\n",
    "result = tf.strings.join(result)\n",
    "end = time.time()\n"
   ]
  },
  {
   "cell_type": "code",
   "execution_count": 81,
   "metadata": {
    "execution": {
     "iopub.execute_input": "2021-05-19T06:58:46.007543Z",
     "iopub.status.busy": "2021-05-19T06:58:46.007007Z",
     "iopub.status.idle": "2021-05-19T06:58:48.146688Z",
     "shell.execute_reply": "2021-05-19T06:58:48.147016Z"
    },
    "id": "ZkLu7Y8UCMT7"
   },
   "outputs": [],
   "source": [
    "start = time.time()\n",
    "states = None\n",
    "\n",
    "next_char = tf.constant(seed5)\n",
    "\n",
    "result = [next_char]\n",
    "\n",
    "for n in range(1000):\n",
    "  next_char, states = one_step_model.generate_one_step(next_char, states=states)\n",
    "  result.append(next_char)\n",
    "\n",
    "result = tf.strings.join(result)\n",
    "end = time.time()\n",
    "# print(result, '\\n\\n' + '_'*80)\n",
    "# print('\\nRun time:', end - start)"
   ]
  },
  {
   "cell_type": "markdown",
   "metadata": {},
   "source": [
    "## Generate Output Text\n",
    "\n",
    "Adjust the length of the text output by changing `N_characters`\n"
   ]
  },
  {
   "cell_type": "code",
   "execution_count": 85,
   "metadata": {},
   "outputs": [
    {
     "name": "stdout",
     "output_type": "stream",
     "text": [
      "UFOs, Marcy was talking about that. The only thing that is absolutely correct. Provably so, this is a plan for us to stay there. They think it's a great thing, and we're happy to have him on tonight. Buck, thanks so much for coming on. I don't know how the size of the shown and they don't need it. And that yes, I love that the problem worked companies we might as well that happen. He was completely out Americans who closed the carrot and the science inderided the biggest state of this country, you surprised that he said, originally, now somehow, in the military — is a white supremacist. And I watched it in the subject of the United States announcing that he somehow do you think that should be supporting them refusing to be in colleges and demonstration cares about the second to defend themselves and there I am sold of night, the C.D.C. Didector went to sold treat that you're doing and for our children. It's destroying the schools for the hour, as Larry King used to say. It's on FOX Nation \n"
     ]
    }
   ],
   "source": [
    "\n",
    "\n",
    "N_characters = 1000\n",
    "\n",
    "    \n",
    "states = None\n",
    "\n",
    "next_char = tf.constant(seed)\n",
    "result = [next_char]\n",
    "for n in range(N_characters):\n",
    "  next_char, states = one_step_model.generate_one_step(next_char, states=states)\n",
    "  result.append(next_char)\n",
    "\n",
    "print(tf.strings.join(result)[0].numpy().decode(\"utf-8\"))\n",
    "print(result[0].numpy().decode('utf-8'), '\\n\\n' + '_'*80)\n",
    "print('\\nRun time:', end - start)"
   ]
  },
  {
   "cell_type": "code",
   "execution_count": null,
   "metadata": {},
   "outputs": [],
   "source": []
  }
 ],
 "metadata": {
  "accelerator": "GPU",
  "colab": {
   "collapsed_sections": [],
   "name": "text_generation.ipynb",
   "toc_visible": true
  },
  "kernelspec": {
   "display_name": "Python 3",
   "language": "python",
   "name": "python3"
  },
  "language_info": {
   "codemirror_mode": {
    "name": "ipython",
    "version": 3
   },
   "file_extension": ".py",
   "mimetype": "text/x-python",
   "name": "python",
   "nbconvert_exporter": "python",
   "pygments_lexer": "ipython3",
   "version": "3.7.4"
  }
 },
 "nbformat": 4,
 "nbformat_minor": 1
}
